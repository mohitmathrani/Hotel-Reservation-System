{
 "cells": [
  {
   "attachments": {},
   "cell_type": "markdown",
   "id": "6902b7bd",
   "metadata": {},
   "source": [
    "## Data Loading and Normalization of flat csv into Mysql Server\n",
    "\n"
   ]
  },
  {
   "cell_type": "code",
   "execution_count": null,
   "id": "e7c3f14d",
   "metadata": {},
   "outputs": [],
   "source": [
    "import mysql.connector\n",
    "import pandas as pd"
   ]
  },
  {
   "cell_type": "code",
   "execution_count": 2,
   "id": "60cb7bfd",
   "metadata": {},
   "outputs": [],
   "source": [
    "import mysql.connector\n",
    "\n",
    "# Connect to MySQL server\n",
    "cnx = mysql.connector.connect(user='root', password='',\n",
    "                              host='localhost', port=3306)\n",
    "\n",
    "# Create a new database\n",
    "cursor = cnx.cursor()\n",
    "cursor.execute(\"CREATE DATABASE hotels\")\n",
    "\n",
    "# Close the cursor and connection\n",
    "cursor.close()\n",
    "cnx.close()\n"
   ]
  },
  {
   "cell_type": "code",
   "execution_count": 4,
   "id": "a07811b9",
   "metadata": {},
   "outputs": [],
   "source": [
    "import mysql.connector\n",
    "\n",
    "# Connect to MySQL server and database\n",
    "cnx = mysql.connector.connect(user='root', password='Mohit9944.',\n",
    "                              host='localhost', port=3306,\n",
    "                              database='hotels')\n",
    "cursor = cnx.cursor()"
   ]
  },
  {
   "cell_type": "code",
   "execution_count": 5,
   "id": "a4182138",
   "metadata": {},
   "outputs": [],
   "source": [
    "hoteldf=pd.read_csv(\"hotelsreservation.csv\")"
   ]
  },
  {
   "cell_type": "code",
   "execution_count": 37,
   "id": "cd4704ff",
   "metadata": {},
   "outputs": [
    {
     "data": {
      "text/plain": [
       "Index(['Booking_ID', 'no_of_adults', 'no_of_children', 'no_of_weekend_nights',\n",
       "       'no_of_week_nights', 'type_of_meal_plan', 'required_car_parking_space',\n",
       "       'room_type_reserved', 'lead_time', 'arrival_year', 'arrival_month',\n",
       "       'arrival_date', 'market_segment_type', 'repeated_guest',\n",
       "       'no_of_previous_cancellations', 'no_of_previous_bookings_not_canceled',\n",
       "       'avg_price_per_room', 'no_of_special_requests', 'booking_status',\n",
       "       'name', 'Customerid', 'room number', 'employee id', 'employee name',\n",
       "       'role', 'checkout_date', 'payment_date', 'paymenttype',\n",
       "       'paymentamount'],\n",
       "      dtype='object')"
      ]
     },
     "execution_count": 37,
     "metadata": {},
     "output_type": "execute_result"
    }
   ],
   "source": [
    "hoteldf.columns"
   ]
  },
  {
   "cell_type": "code",
   "execution_count": 42,
   "id": "6b21bbb7",
   "metadata": {},
   "outputs": [],
   "source": [
    "hoteldf = hoteldf.rename(columns={'employee id': 'employeeid'})"
   ]
  },
  {
   "cell_type": "code",
   "execution_count": 45,
   "id": "f8a81ee4",
   "metadata": {},
   "outputs": [],
   "source": [
    "hoteldf = hoteldf.rename(columns={'room number': 'roomnumber'})"
   ]
  },
  {
   "cell_type": "code",
   "execution_count": 6,
   "id": "2ecbd547",
   "metadata": {},
   "outputs": [],
   "source": [
    "cursor.execute('''\n",
    "    CREATE TABLE customers (\n",
    "        customer_id int primary key,\n",
    "        name varchar(255),\n",
    "        repeated_guest int,\n",
    "        no_of_previous_cancellations int,\n",
    "        no_of_previous_bookings_not_canceled int,\n",
    "        \n",
    "    )\n",
    "''')"
   ]
  },
  {
   "cell_type": "code",
   "execution_count": 7,
   "id": "9ac58bab",
   "metadata": {},
   "outputs": [],
   "source": [
    "for row in hoteldf.itertuples():\n",
    "    cursor.execute('''\n",
    "        INSERT INTO customers (customer_id, name, \n",
    "                                    repeated_guest,no_of_previous_cancellations ,no_of_previous_bookings_not_canceled )\n",
    "        VALUES (%s, %s, %s, %s, %s)\n",
    "        ''',\n",
    "        (row.Customerid,\n",
    "        row.name,\n",
    "        row.repeated_guest,\n",
    "        row.no_of_previous_cancellations,\n",
    "        row.no_of_previous_bookings_not_canceled))\n",
    "    cnx.commit()"
   ]
  },
  {
   "cell_type": "code",
   "execution_count": 53,
   "id": "16c70f4c",
   "metadata": {},
   "outputs": [],
   "source": [
    "cursor.execute('''\n",
    "    CREATE TABLE bookingdetails (\n",
    "        booking_id varchar(20) primary key,\n",
    "        customer_id int references customers(customer_id),\n",
    "        roomnumber int references rooms(roomnumber),\n",
    "        employee_id varchar(20) references employees(employee_id),\n",
    "        no_of_adults int,\n",
    "        no_of_children int,\n",
    "        no_of_weekend_nights int,\n",
    "        no_of_week_nights int\n",
    "    )\n",
    "''')"
   ]
  },
  {
   "cell_type": "code",
   "execution_count": 54,
   "id": "1399a02a",
   "metadata": {},
   "outputs": [],
   "source": [
    "for row in hoteldf.itertuples():\n",
    "    cursor.execute('''\n",
    "        INSERT INTO bookingdetails (booking_id ,\n",
    "        customer_id ,\n",
    "        roomnumber,\n",
    "        employee_id,\n",
    "        no_of_adults ,\n",
    "        no_of_children ,\n",
    "        no_of_weekend_nights ,\n",
    "        no_of_week_nights  )\n",
    "        VALUES (%s, %s, %s, %s, %s,%s,%s,%s)\n",
    "        ''',\n",
    "        (row.Booking_ID,\n",
    "        row.Customerid ,\n",
    "        row.roomnumber,\n",
    "        row.employeeid,\n",
    "        row.no_of_adults ,\n",
    "        row.no_of_children,\n",
    "        row.no_of_weekend_nights,\n",
    "        row.no_of_week_nights\n",
    "         \n",
    "        ))\n",
    "    cnx.commit()"
   ]
  },
  {
   "cell_type": "code",
   "execution_count": 12,
   "id": "3ddaa58b",
   "metadata": {},
   "outputs": [],
   "source": [
    "cursor.execute('''\n",
    "    CREATE TABLE dates (\n",
    "    booking_id varchar(20) references bookingdetails(booking_id),\n",
    "    lead_time int,\n",
    "    arrival_date datetime,\n",
    "    checkoutdate datetime )\n",
    "''')"
   ]
  },
  {
   "cell_type": "code",
   "execution_count": 15,
   "id": "f3fdb449",
   "metadata": {},
   "outputs": [],
   "source": [
    "for row in hoteldf.itertuples():\n",
    "    cursor.execute('''\n",
    "        INSERT INTO dates (booking_id ,\n",
    "        lead_time ,\n",
    "        arrival_date ,\n",
    "    checkoutdate   )\n",
    "        VALUES (%s, %s, %s, %s)\n",
    "        ''',\n",
    "                   \n",
    "        ( row.Booking_ID,\n",
    "            row.lead_time,\n",
    "        row.arrival_date,\n",
    "        row.checkout_date\n",
    "         \n",
    "        ))\n",
    "    cnx.commit()"
   ]
  },
  {
   "cell_type": "code",
   "execution_count": null,
   "id": "81b64bb6",
   "metadata": {},
   "outputs": [],
   "source": [
    "cursor.execute('''\n",
    "    CREATE TABLE members (\n",
    "        booking_id varchar(20) references bookingdetains(booking_id),\n",
    "        customer_id int references customers(customer_id),\n",
    "        no_of_adults int,\n",
    "        no_of_children int,\n",
    "        no_of_weekend_nights int,\n",
    "        no_of_week_nights int,\n",
    "        lead_time int,\n",
    "        arrival_year int,\n",
    "        arrival_month int,\n",
    "        arrival_date int,\n",
    "        specialrequests int,\n",
    "        requiredcarspace int\n",
    "    )\n",
    "''')"
   ]
  },
  {
   "cell_type": "code",
   "execution_count": 16,
   "id": "da766afc",
   "metadata": {},
   "outputs": [],
   "source": [
    "cursor.execute('''\n",
    "    CREATE TABLE specialrequest (\n",
    "        customer_id int references customers(customer_id),\n",
    "        specialrequests int,\n",
    "        requiredcarspace int\n",
    "    )\n",
    "''')"
   ]
  },
  {
   "cell_type": "code",
   "execution_count": 17,
   "id": "6d924d48",
   "metadata": {},
   "outputs": [],
   "source": [
    "for row in hoteldf.itertuples():\n",
    "    cursor.execute('''\n",
    "        INSERT INTO specialrequest (customer_id, specialrequests,requiredcarspace)\n",
    "        VALUES (%s, %s,%s)\n",
    "        ''',\n",
    "        (row.Customerid,\n",
    "        row.no_of_special_requests,\n",
    "        row.required_car_parking_space))\n",
    "    cnx.commit()"
   ]
  },
  {
   "cell_type": "code",
   "execution_count": 18,
   "id": "3a9a4fec",
   "metadata": {},
   "outputs": [],
   "source": [
    "cursor.execute('''\n",
    "    CREATE TABLE BookingStatus (\n",
    "        booking_id varchar(20) references bookingdetails(booking_id),\n",
    "        booking_status varchar(20) \n",
    "    )\n",
    "''')"
   ]
  },
  {
   "cell_type": "code",
   "execution_count": 19,
   "id": "68414e35",
   "metadata": {},
   "outputs": [],
   "source": [
    "for row in hoteldf.itertuples():\n",
    "    cursor.execute('''\n",
    "        INSERT INTO BookingStatus (booking_id,booking_status)\n",
    "        VALUES (%s, %s)\n",
    "        ''',\n",
    "        (row.Booking_ID,\n",
    "        row.booking_status))\n",
    "    cnx.commit()"
   ]
  },
  {
   "cell_type": "code",
   "execution_count": 20,
   "id": "668a5c53",
   "metadata": {},
   "outputs": [],
   "source": [
    "cursor.execute('''\n",
    "    CREATE TABLE mealplan (\n",
    "        booking_id varchar(20) references bookingdetails(booking_id),\n",
    "        mealtype varchar (20)\n",
    "    )\n",
    "''')"
   ]
  },
  {
   "cell_type": "code",
   "execution_count": 21,
   "id": "715b960c",
   "metadata": {},
   "outputs": [],
   "source": [
    "for row in hoteldf.itertuples():\n",
    "    cursor.execute('''\n",
    "        INSERT INTO mealplan (booking_id,mealtype)\n",
    "        VALUES (%s, %s)\n",
    "        ''',\n",
    "        (row.Booking_ID,\n",
    "        row.type_of_meal_plan ))\n",
    "    cnx.commit()"
   ]
  },
  {
   "cell_type": "code",
   "execution_count": 22,
   "id": "fe309516",
   "metadata": {},
   "outputs": [],
   "source": [
    "cursor.execute('''\n",
    "    CREATE TABLE Price (\n",
    "        booking_id varchar(20) references bookingdetails(booking_id),\n",
    "        price float(8)\n",
    "    )\n",
    "''')"
   ]
  },
  {
   "cell_type": "code",
   "execution_count": 23,
   "id": "41b37c75",
   "metadata": {},
   "outputs": [],
   "source": [
    "for row in hoteldf.itertuples():\n",
    "    cursor.execute('''\n",
    "        INSERT INTO price (booking_id,price )\n",
    "        VALUES (%s, %s)\n",
    "        ''',\n",
    "        (row.Booking_ID,\n",
    "         row.avg_price_per_room ))\n",
    "    cnx.commit()"
   ]
  },
  {
   "cell_type": "code",
   "execution_count": 24,
   "id": "b6eefc33",
   "metadata": {},
   "outputs": [],
   "source": [
    "cursor.execute('''\n",
    "    CREATE TABLE Payment (\n",
    "        booking_id varchar(20) references bookingdetails(booking_id),\n",
    "        paymenttype varchar(20),\n",
    "        paymentamount float(10),\n",
    "        paymentdate datetime\n",
    "\n",
    "    )\n",
    "''')"
   ]
  },
  {
   "cell_type": "code",
   "execution_count": null,
   "id": "1a20d560",
   "metadata": {},
   "outputs": [],
   "source": []
  },
  {
   "cell_type": "code",
   "execution_count": 26,
   "id": "ac478918",
   "metadata": {},
   "outputs": [
    {
     "data": {
      "text/plain": [
       "Index(['Booking_ID', 'no_of_adults', 'no_of_children', 'no_of_weekend_nights',\n",
       "       'no_of_week_nights', 'type_of_meal_plan', 'required_car_parking_space',\n",
       "       'room_type_reserved', 'lead_time', 'arrival_year', 'arrival_month',\n",
       "       'arrival_date', 'market_segment_type', 'repeated_guest',\n",
       "       'no_of_previous_cancellations', 'no_of_previous_bookings_not_canceled',\n",
       "       'avg_price_per_room', 'no_of_special_requests', 'booking_status',\n",
       "       'name', 'Customerid', 'room number', 'employee id', 'employee name',\n",
       "       'role', 'checkout_date', 'payment_date', 'payment type',\n",
       "       'paymentamount'],\n",
       "      dtype='object')"
      ]
     },
     "execution_count": 26,
     "metadata": {},
     "output_type": "execute_result"
    }
   ],
   "source": [
    "hoteldf.columns"
   ]
  },
  {
   "cell_type": "code",
   "execution_count": 27,
   "id": "6236d1d1",
   "metadata": {},
   "outputs": [],
   "source": [
    "hoteldf = hoteldf.rename(columns={'payment type': 'paymenttype', 'employeename': 'employeename'})"
   ]
  },
  {
   "cell_type": "code",
   "execution_count": 29,
   "id": "50a7bee7",
   "metadata": {},
   "outputs": [],
   "source": [
    "for row in hoteldf.itertuples():\n",
    "    cursor.execute('''\n",
    "        INSERT INTO payment (booking_id,paymenttype,paymentamount,paymentdate )\n",
    "        VALUES (%s, %s,%s, %s)\n",
    "        ''',\n",
    "        (row.Booking_ID,\n",
    "         row.paymenttype,\n",
    "        row.paymentamount,\n",
    "        row.payment_date))\n",
    "    cnx.commit()"
   ]
  },
  {
   "cell_type": "code",
   "execution_count": 30,
   "id": "111ccd11",
   "metadata": {},
   "outputs": [],
   "source": [
    "employee=pd.read_csv(\"employees.csv\")"
   ]
  },
  {
   "cell_type": "code",
   "execution_count": 31,
   "id": "2e23cac2",
   "metadata": {},
   "outputs": [
    {
     "data": {
      "text/html": [
       "<div>\n",
       "<style scoped>\n",
       "    .dataframe tbody tr th:only-of-type {\n",
       "        vertical-align: middle;\n",
       "    }\n",
       "\n",
       "    .dataframe tbody tr th {\n",
       "        vertical-align: top;\n",
       "    }\n",
       "\n",
       "    .dataframe thead th {\n",
       "        text-align: right;\n",
       "    }\n",
       "</style>\n",
       "<table border=\"1\" class=\"dataframe\">\n",
       "  <thead>\n",
       "    <tr style=\"text-align: right;\">\n",
       "      <th></th>\n",
       "      <th>employee id</th>\n",
       "      <th>employee name</th>\n",
       "      <th>role</th>\n",
       "    </tr>\n",
       "  </thead>\n",
       "  <tbody>\n",
       "    <tr>\n",
       "      <th>0</th>\n",
       "      <td>E1001</td>\n",
       "      <td>Sam</td>\n",
       "      <td>Assistant</td>\n",
       "    </tr>\n",
       "    <tr>\n",
       "      <th>1</th>\n",
       "      <td>E1002</td>\n",
       "      <td>Sara</td>\n",
       "      <td>Assistant</td>\n",
       "    </tr>\n",
       "    <tr>\n",
       "      <th>2</th>\n",
       "      <td>E1003</td>\n",
       "      <td>Joshua</td>\n",
       "      <td>Supervisor</td>\n",
       "    </tr>\n",
       "    <tr>\n",
       "      <th>3</th>\n",
       "      <td>E1004</td>\n",
       "      <td>Sarah</td>\n",
       "      <td>Supervisor</td>\n",
       "    </tr>\n",
       "    <tr>\n",
       "      <th>4</th>\n",
       "      <td>E1005</td>\n",
       "      <td>Kent</td>\n",
       "      <td>Manager</td>\n",
       "    </tr>\n",
       "  </tbody>\n",
       "</table>\n",
       "</div>"
      ],
      "text/plain": [
       "  employee id employee name        role\n",
       "0       E1001           Sam   Assistant\n",
       "1       E1002          Sara   Assistant\n",
       "2       E1003        Joshua  Supervisor\n",
       "3       E1004         Sarah  Supervisor\n",
       "4       E1005          Kent     Manager"
      ]
     },
     "execution_count": 31,
     "metadata": {},
     "output_type": "execute_result"
    }
   ],
   "source": [
    "employee.head()"
   ]
  },
  {
   "cell_type": "code",
   "execution_count": 32,
   "id": "4d268793",
   "metadata": {},
   "outputs": [],
   "source": [
    "cursor.execute('''\n",
    "    CREATE TABLE Employees(\n",
    "        employee_id varchar(20) primary key,\n",
    "        name varchar(20),\n",
    "        role varchar(20)\n",
    "    )\n",
    "''')"
   ]
  },
  {
   "cell_type": "code",
   "execution_count": 33,
   "id": "44b82a86",
   "metadata": {},
   "outputs": [],
   "source": [
    "employee = employee.rename(columns={'employee id': 'id', 'employee name': 'name'})"
   ]
  },
  {
   "cell_type": "code",
   "execution_count": null,
   "id": "7c979db1",
   "metadata": {},
   "outputs": [],
   "source": []
  },
  {
   "cell_type": "code",
   "execution_count": 34,
   "id": "69add4b3",
   "metadata": {},
   "outputs": [],
   "source": [
    "for row in employee.itertuples():\n",
    "    cursor.execute('''\n",
    "        INSERT INTO Employees (employee_id,name,role )\n",
    "        VALUES (%s, %s,%s)\n",
    "        ''',\n",
    "        (row.id,\n",
    "         row.name,\n",
    "        row.role))\n",
    "    cnx.commit()"
   ]
  },
  {
   "cell_type": "code",
   "execution_count": 37,
   "id": "90992b41",
   "metadata": {},
   "outputs": [],
   "source": [
    "cursor.execute('''\n",
    "    CREATE TABLE ParkingSpace(\n",
    "    booking_id varchar(20) references bookingdetails(booking_id),\n",
    "         customername varchar(255),\n",
    "        carparking int\n",
    "    )\n",
    "''')"
   ]
  },
  {
   "cell_type": "code",
   "execution_count": 38,
   "id": "a5852136",
   "metadata": {},
   "outputs": [],
   "source": [
    "for row in hoteldf.itertuples():\n",
    "    cursor.execute('''\n",
    "        INSERT INTO ParkingSpace (booking_id,customername,carparking )\n",
    "        VALUES (%s, %s,%s)\n",
    "        ''',\n",
    "        (row.Booking_ID,\n",
    "         row.name,\n",
    "        row.required_car_parking_space))\n",
    "    cnx.commit()"
   ]
  },
  {
   "cell_type": "code",
   "execution_count": 48,
   "id": "6559f01a",
   "metadata": {},
   "outputs": [],
   "source": [
    "room=pd.read_csv(\"rooms.csv\")"
   ]
  },
  {
   "cell_type": "code",
   "execution_count": 49,
   "id": "50eff08a",
   "metadata": {},
   "outputs": [
    {
     "data": {
      "text/html": [
       "<div>\n",
       "<style scoped>\n",
       "    .dataframe tbody tr th:only-of-type {\n",
       "        vertical-align: middle;\n",
       "    }\n",
       "\n",
       "    .dataframe tbody tr th {\n",
       "        vertical-align: top;\n",
       "    }\n",
       "\n",
       "    .dataframe thead th {\n",
       "        text-align: right;\n",
       "    }\n",
       "</style>\n",
       "<table border=\"1\" class=\"dataframe\">\n",
       "  <thead>\n",
       "    <tr style=\"text-align: right;\">\n",
       "      <th></th>\n",
       "      <th>room number</th>\n",
       "      <th>room_type_reserved</th>\n",
       "    </tr>\n",
       "  </thead>\n",
       "  <tbody>\n",
       "    <tr>\n",
       "      <th>0</th>\n",
       "      <td>142</td>\n",
       "      <td>Room_Type 1</td>\n",
       "    </tr>\n",
       "    <tr>\n",
       "      <th>1</th>\n",
       "      <td>146</td>\n",
       "      <td>Room_Type 1</td>\n",
       "    </tr>\n",
       "    <tr>\n",
       "      <th>2</th>\n",
       "      <td>153</td>\n",
       "      <td>Room_Type 1</td>\n",
       "    </tr>\n",
       "    <tr>\n",
       "      <th>3</th>\n",
       "      <td>131</td>\n",
       "      <td>Room_Type 1</td>\n",
       "    </tr>\n",
       "    <tr>\n",
       "      <th>4</th>\n",
       "      <td>116</td>\n",
       "      <td>Room_Type 1</td>\n",
       "    </tr>\n",
       "  </tbody>\n",
       "</table>\n",
       "</div>"
      ],
      "text/plain": [
       "   room number room_type_reserved\n",
       "0          142        Room_Type 1\n",
       "1          146        Room_Type 1\n",
       "2          153        Room_Type 1\n",
       "3          131        Room_Type 1\n",
       "4          116        Room_Type 1"
      ]
     },
     "execution_count": 49,
     "metadata": {},
     "output_type": "execute_result"
    }
   ],
   "source": [
    "room.head()"
   ]
  },
  {
   "cell_type": "code",
   "execution_count": 51,
   "id": "9346d985",
   "metadata": {},
   "outputs": [],
   "source": [
    "room = room.rename(columns={'room number': 'roomnumber'})"
   ]
  },
  {
   "cell_type": "code",
   "execution_count": 52,
   "id": "19913541",
   "metadata": {},
   "outputs": [],
   "source": [
    "for row in room.itertuples():\n",
    "    cursor.execute('''\n",
    "        INSERT INTO rooms(roomnumber,room_type_reserved )\n",
    "        VALUES (%s, %s)\n",
    "        ''',\n",
    "        (row.roomnumber,\n",
    "         row.room_type_reserved))\n",
    "    cnx.commit()"
   ]
  }
 ],
 "metadata": {
  "kernelspec": {
   "display_name": "Python 3 (ipykernel)",
   "language": "python",
   "name": "python3"
  },
  "language_info": {
   "codemirror_mode": {
    "name": "ipython",
    "version": 3
   },
   "file_extension": ".py",
   "mimetype": "text/x-python",
   "name": "python",
   "nbconvert_exporter": "python",
   "pygments_lexer": "ipython3",
   "version": "3.9.12"
  }
 },
 "nbformat": 4,
 "nbformat_minor": 5
}
